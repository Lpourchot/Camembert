{
 "cells": [
  {
   "cell_type": "code",
   "execution_count": 1,
   "metadata": {},
   "outputs": [
    {
     "data": {
      "text/plain": [
       "'\\nhttps://huggingface.co/transformers/model_doc/marian.html\\nhttps://programming-review.com/machine-learning/translation/\\n\\n'"
      ]
     },
     "execution_count": 1,
     "metadata": {},
     "output_type": "execute_result"
    }
   ],
   "source": [
    "\"\"\"\n",
    "https://huggingface.co/transformers/model_doc/marian.html\n",
    "https://programming-review.com/machine-learning/translation/\n",
    "\n",
    "\"\"\"\n"
   ]
  },
  {
   "cell_type": "code",
   "execution_count": 1,
   "metadata": {},
   "outputs": [
    {
     "name": "stdout",
     "output_type": "stream",
     "text": [
      "[]\n"
     ]
    }
   ],
   "source": [
    "from transformers import MarianMTModel, MarianTokenizer\n",
    "\n",
    "model_name = 'Helsinki-NLP/opus-mt-en-fr'\n",
    "tokenizer = MarianTokenizer.from_pretrained(model_name)\n",
    "print(tokenizer.supported_language_codes)\n",
    "model = MarianMTModel.from_pretrained(model_name)\n",
    "import textwrap\n"
   ]
  },
  {
   "cell_type": "code",
   "execution_count": 2,
   "metadata": {},
   "outputs": [
    {
     "data": {
      "text/plain": [
       "['Train.csv']"
      ]
     },
     "execution_count": 2,
     "metadata": {},
     "output_type": "execute_result"
    }
   ],
   "source": [
    "import pandas as pd\n",
    "import numpy as np\n",
    "import os\n",
    "\n",
    "os.listdir('./train')"
   ]
  },
  {
   "cell_type": "code",
   "execution_count": 33,
   "metadata": {},
   "outputs": [],
   "source": [
    "pd.set_option('display.max_colwidth', 600)\n",
    "df=pd.read_csv(\"./train/train.csv\")\n"
   ]
  },
  {
   "cell_type": "code",
   "execution_count": 36,
   "metadata": {},
   "outputs": [
    {
     "name": "stdout",
     "output_type": "stream",
     "text": [
      "nombre de lignes : 2041\n",
      "nombre de 1 : 1112\n"
     ]
    },
    {
     "data": {
      "text/html": [
       "<div>\n",
       "<style scoped>\n",
       "    .dataframe tbody tr th:only-of-type {\n",
       "        vertical-align: middle;\n",
       "    }\n",
       "\n",
       "    .dataframe tbody tr th {\n",
       "        vertical-align: top;\n",
       "    }\n",
       "\n",
       "    .dataframe thead th {\n",
       "        text-align: right;\n",
       "    }\n",
       "</style>\n",
       "<table border=\"1\" class=\"dataframe\">\n",
       "  <thead>\n",
       "    <tr style=\"text-align: right;\">\n",
       "      <th></th>\n",
       "      <th>text</th>\n",
       "      <th>label</th>\n",
       "    </tr>\n",
       "  </thead>\n",
       "  <tbody>\n",
       "    <tr>\n",
       "      <th>0</th>\n",
       "      <td>I don't care if some people voted this movie to be bad. If you want the Truth this is a Very Good Movie! It has every thing a movie should have. You really should Get this one.</td>\n",
       "      <td>1</td>\n",
       "    </tr>\n",
       "    <tr>\n",
       "      <th>1</th>\n",
       "      <td>I saw this film by chance on the small box. It has a fantastic and chilling scene about poisonous gas. A lot about fanatical patriotism. A bit of eroticism. I can't believe it's still waiting for 5 votes!!</td>\n",
       "      <td>1</td>\n",
       "    </tr>\n",
       "    <tr>\n",
       "      <th>2</th>\n",
       "      <td>The worst movie I have seen in a while. Yeah its fun to fantasize, but if that is what you are looking for, I suggest you see Brewsters Millions. This was just terrible and corny and terrible at being corny. Unless you are five or like terrible movies, don't see this one.</td>\n",
       "      <td>0</td>\n",
       "    </tr>\n",
       "  </tbody>\n",
       "</table>\n",
       "</div>"
      ],
      "text/plain": [
       "                                                                                                                                                                                                                                                                               text  \\\n",
       "0                                                                                                  I don't care if some people voted this movie to be bad. If you want the Truth this is a Very Good Movie! It has every thing a movie should have. You really should Get this one.   \n",
       "1                                                                     I saw this film by chance on the small box. It has a fantastic and chilling scene about poisonous gas. A lot about fanatical patriotism. A bit of eroticism. I can't believe it's still waiting for 5 votes!!   \n",
       "2  The worst movie I have seen in a while. Yeah its fun to fantasize, but if that is what you are looking for, I suggest you see Brewsters Millions. This was just terrible and corny and terrible at being corny. Unless you are five or like terrible movies, don't see this one.   \n",
       "\n",
       "  label  \n",
       "0     1  \n",
       "1     1  \n",
       "2     0  "
      ]
     },
     "metadata": {},
     "output_type": "display_data"
    }
   ],
   "source": [
    "\"\"\"\n",
    "we select lenght < 350\n",
    "\"\"\"\n",
    "x=[]\n",
    "c=-1\n",
    "d=0\n",
    "for i in range(len(df)):\n",
    "    liste=list(df['text'].loc[i])\n",
    "    ma_string=\":\".join(liste)\n",
    "    liste_string=ma_string.split(\":\")\n",
    "    a=len(liste_string)\n",
    "    if a<350:\n",
    "        c+=1\n",
    "        df.reindex(columns = ['text', 'label'], index = ['c'])\n",
    "        x.append(df.loc[i])\n",
    "        if df['label'].loc[i]==1:\n",
    "            d+=1\n",
    "        if c==10000:\n",
    "            break\n",
    "        \n",
    "y=np.array(x)        \n",
    "print(\"nombre de lignes :\",c)\n",
    "print(\"nombre de 1 :\",d)\n",
    "\n",
    "df=pd.DataFrame(y)\n",
    "df.rename(columns={0: 'text', 1: 'label'}, inplace=True)\n",
    "display(df.loc[:2])\n",
    "\n"
   ]
  },
  {
   "cell_type": "code",
   "execution_count": 53,
   "metadata": {},
   "outputs": [
    {
     "name": "stdout",
     "output_type": "stream",
     "text": [
      "2042\n"
     ]
    }
   ],
   "source": [
    "text=np.array(df['text'])\n",
    "print(len(text))\n"
   ]
  },
  {
   "cell_type": "code",
   "execution_count": null,
   "metadata": {},
   "outputs": [],
   "source": []
  },
  {
   "cell_type": "code",
   "execution_count": 44,
   "metadata": {},
   "outputs": [],
   "source": [
    "text1=[]\n",
    "text2=[]\n",
    "for i in range(len(text)):\n",
    "    text0=[]\n",
    "    text0=text[i]\n",
    "    translated = model.generate(**tokenizer.prepare_translation_batch(src_texts=[text0]))\n",
    "    text1 = [tokenizer.decode(t, skip_special_tokens=True) for t in translated]\n",
    "    text2.append(text1)"
   ]
  },
  {
   "cell_type": "code",
   "execution_count": 49,
   "metadata": {},
   "outputs": [
    {
     "name": "stdout",
     "output_type": "stream",
     "text": [
      "[\"Je m'en fiche si certaines personnes ont voté ce film pour être mauvais. Si vous voulez la vérité c'est un très bon film! Il a toutes les choses qu'un film devrait avoir. Vous devriez vraiment obtenir celui-ci.\"]\n",
      "2042\n"
     ]
    }
   ],
   "source": [
    "print(text2[0])\n",
    "df_translated=pd.DataFrame(text2)\n",
    "df_translated['label']=df['label']\n",
    "print(len(text2))"
   ]
  },
  {
   "cell_type": "code",
   "execution_count": 50,
   "metadata": {},
   "outputs": [
    {
     "data": {
      "text/html": [
       "<div>\n",
       "<style scoped>\n",
       "    .dataframe tbody tr th:only-of-type {\n",
       "        vertical-align: middle;\n",
       "    }\n",
       "\n",
       "    .dataframe tbody tr th {\n",
       "        vertical-align: top;\n",
       "    }\n",
       "\n",
       "    .dataframe thead th {\n",
       "        text-align: right;\n",
       "    }\n",
       "</style>\n",
       "<table border=\"1\" class=\"dataframe\">\n",
       "  <thead>\n",
       "    <tr style=\"text-align: right;\">\n",
       "      <th></th>\n",
       "      <th>text</th>\n",
       "      <th>list</th>\n",
       "    </tr>\n",
       "  </thead>\n",
       "  <tbody>\n",
       "    <tr>\n",
       "      <th>0</th>\n",
       "      <td>Je m'en fiche si certaines personnes ont voté ce film pour être mauvais. Si vous voulez la vérité c'est un très bon film! Il a toutes les choses qu'un film devrait avoir. Vous devriez vraiment obtenir celui-ci.</td>\n",
       "      <td>1</td>\n",
       "    </tr>\n",
       "    <tr>\n",
       "      <th>1</th>\n",
       "      <td>J'ai vu ce film par hasard sur la petite boîte. Il a une scène fantastique et effrayante sur le gaz toxique. Beaucoup sur le patriotisme fanatique. Un peu d'érotisme. Je n'arrive pas à croire qu'il attend encore 5 votes!!</td>\n",
       "      <td>1</td>\n",
       "    </tr>\n",
       "    <tr>\n",
       "      <th>2</th>\n",
       "      <td>Le pire film que j'ai vu depuis un moment. Ouais son plaisir à fantasmer, mais si c'est ce que vous cherchez, je vous suggère de voir Brewsters Millions. C'était juste terrible et corné et terrible à être corné. À moins que vous soyez cinq ou comme des films terribles, ne voyez pas celui-ci.</td>\n",
       "      <td>0</td>\n",
       "    </tr>\n",
       "    <tr>\n",
       "      <th>3</th>\n",
       "      <td>Je ne sais pas ce que c'est à propos de ce film, le charisme des deux pistes, leur chimie à l'écran, la chance de voir le fils de Matthau (vous ne pouvez pas le manquer) ou la performance d'Art Carney mais j'adore. Je l'ai vu quelques fois et je ne me lasse jamais de le regarder à nouveau. Louer et profiter.</td>\n",
       "      <td>1</td>\n",
       "    </tr>\n",
       "    <tr>\n",
       "      <th>4</th>\n",
       "      <td>J'adore ce film! Je pense que je l'ai déjà vu 5 fois (ce fut un vrai succès en France et ils le jouent souvent à la télévision). Ok, c'est un thriller et il y a une grande tension. Mais surtout (et surtout dans la deuxième partie) c'est absolument hilarant! Et très original. La mise en scène et la photographie sont tout simplement splendides.</td>\n",
       "      <td>1</td>\n",
       "    </tr>\n",
       "  </tbody>\n",
       "</table>\n",
       "</div>"
      ],
      "text/plain": [
       "                                                                                                                                                                                                                                                                                                                                                       text  \\\n",
       "0                                                                                                                                        Je m'en fiche si certaines personnes ont voté ce film pour être mauvais. Si vous voulez la vérité c'est un très bon film! Il a toutes les choses qu'un film devrait avoir. Vous devriez vraiment obtenir celui-ci.   \n",
       "1                                                                                                                             J'ai vu ce film par hasard sur la petite boîte. Il a une scène fantastique et effrayante sur le gaz toxique. Beaucoup sur le patriotisme fanatique. Un peu d'érotisme. Je n'arrive pas à croire qu'il attend encore 5 votes!!   \n",
       "2                                                      Le pire film que j'ai vu depuis un moment. Ouais son plaisir à fantasmer, mais si c'est ce que vous cherchez, je vous suggère de voir Brewsters Millions. C'était juste terrible et corné et terrible à être corné. À moins que vous soyez cinq ou comme des films terribles, ne voyez pas celui-ci.   \n",
       "3                                     Je ne sais pas ce que c'est à propos de ce film, le charisme des deux pistes, leur chimie à l'écran, la chance de voir le fils de Matthau (vous ne pouvez pas le manquer) ou la performance d'Art Carney mais j'adore. Je l'ai vu quelques fois et je ne me lasse jamais de le regarder à nouveau. Louer et profiter.   \n",
       "4  J'adore ce film! Je pense que je l'ai déjà vu 5 fois (ce fut un vrai succès en France et ils le jouent souvent à la télévision). Ok, c'est un thriller et il y a une grande tension. Mais surtout (et surtout dans la deuxième partie) c'est absolument hilarant! Et très original. La mise en scène et la photographie sont tout simplement splendides.   \n",
       "\n",
       "  list  \n",
       "0    1  \n",
       "1    1  \n",
       "2    0  \n",
       "3    1  \n",
       "4    1  "
      ]
     },
     "metadata": {},
     "output_type": "display_data"
    }
   ],
   "source": [
    "df_translated.rename(columns={0:'text' , 'label': 'list'}, inplace=True)\n",
    "display(df_translated.head())"
   ]
  },
  {
   "cell_type": "code",
   "execution_count": null,
   "metadata": {},
   "outputs": [],
   "source": []
  },
  {
   "cell_type": "code",
   "execution_count": 51,
   "metadata": {},
   "outputs": [],
   "source": [
    "df_translated.to_csv('translated.csv', sep = ',')"
   ]
  },
  {
   "cell_type": "code",
   "execution_count": 52,
   "metadata": {},
   "outputs": [
    {
     "name": "stdout",
     "output_type": "stream",
     "text": [
      "2042\n"
     ]
    }
   ],
   "source": [
    "\n",
    "print(len(df_translated))"
   ]
  },
  {
   "cell_type": "code",
   "execution_count": null,
   "metadata": {},
   "outputs": [],
   "source": []
  },
  {
   "cell_type": "code",
   "execution_count": null,
   "metadata": {},
   "outputs": [],
   "source": []
  }
 ],
 "metadata": {
  "kernelspec": {
   "display_name": "Python 3",
   "language": "python",
   "name": "python3"
  },
  "language_info": {
   "codemirror_mode": {
    "name": "ipython",
    "version": 3
   },
   "file_extension": ".py",
   "mimetype": "text/x-python",
   "name": "python",
   "nbconvert_exporter": "python",
   "pygments_lexer": "ipython3",
   "version": "3.8.3"
  }
 },
 "nbformat": 4,
 "nbformat_minor": 4
}

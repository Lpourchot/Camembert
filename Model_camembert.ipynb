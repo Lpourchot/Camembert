{
 "cells": [
  {
   "cell_type": "code",
   "execution_count": 80,
   "metadata": {},
   "outputs": [],
   "source": [
    "\"\"\"\n",
    "https://github.com/abhimishra91/transformers-tutorials/blob/master/transformers_multi_label_classification.ipynb\n",
    "\"\"\"\n",
    "\n",
    "import numpy as np\n",
    "import pandas as pd\n",
    "from sklearn import metrics\n",
    "import transformers\n",
    "from transformers import CamembertModel, CamembertTokenizer\n",
    "import torch\n",
    "from torch.utils.data import Dataset, DataLoader, RandomSampler, SequentialSampler\n",
    "#from transformers import BertTokenizer, BertModel, BertConfig\n",
    "\n",
    "import os\n",
    "\n",
    "tokenizer = CamembertTokenizer.from_pretrained(\"camembert-base\")\n",
    "camembert = CamembertModel.from_pretrained(\"camembert-base\")\n"
   ]
  },
  {
   "cell_type": "code",
   "execution_count": 81,
   "metadata": {},
   "outputs": [
    {
     "data": {
      "text/plain": [
       "['Train.csv']"
      ]
     },
     "execution_count": 81,
     "metadata": {},
     "output_type": "execute_result"
    }
   ],
   "source": [
    "os.listdir('./train')"
   ]
  },
  {
   "cell_type": "code",
   "execution_count": 82,
   "metadata": {},
   "outputs": [
    {
     "name": "stdout",
     "output_type": "stream",
     "text": [
      "2042\n"
     ]
    },
    {
     "data": {
      "text/html": [
       "<div>\n",
       "<style scoped>\n",
       "    .dataframe tbody tr th:only-of-type {\n",
       "        vertical-align: middle;\n",
       "    }\n",
       "\n",
       "    .dataframe tbody tr th {\n",
       "        vertical-align: top;\n",
       "    }\n",
       "\n",
       "    .dataframe thead th {\n",
       "        text-align: right;\n",
       "    }\n",
       "</style>\n",
       "<table border=\"1\" class=\"dataframe\">\n",
       "  <thead>\n",
       "    <tr style=\"text-align: right;\">\n",
       "      <th></th>\n",
       "      <th>Unnamed: 0</th>\n",
       "      <th>text</th>\n",
       "      <th>list</th>\n",
       "    </tr>\n",
       "  </thead>\n",
       "  <tbody>\n",
       "    <tr>\n",
       "      <th>0</th>\n",
       "      <td>0</td>\n",
       "      <td>Je m'en fiche si certaines personnes ont voté ...</td>\n",
       "      <td>1</td>\n",
       "    </tr>\n",
       "    <tr>\n",
       "      <th>1</th>\n",
       "      <td>1</td>\n",
       "      <td>J'ai vu ce film par hasard sur la petite boîte...</td>\n",
       "      <td>1</td>\n",
       "    </tr>\n",
       "    <tr>\n",
       "      <th>2</th>\n",
       "      <td>2</td>\n",
       "      <td>Le pire film que j'ai vu depuis un moment. Oua...</td>\n",
       "      <td>0</td>\n",
       "    </tr>\n",
       "    <tr>\n",
       "      <th>3</th>\n",
       "      <td>3</td>\n",
       "      <td>Je ne sais pas ce que c'est à propos de ce fil...</td>\n",
       "      <td>1</td>\n",
       "    </tr>\n",
       "    <tr>\n",
       "      <th>4</th>\n",
       "      <td>4</td>\n",
       "      <td>J'adore ce film! Je pense que je l'ai déjà vu ...</td>\n",
       "      <td>1</td>\n",
       "    </tr>\n",
       "  </tbody>\n",
       "</table>\n",
       "</div>"
      ],
      "text/plain": [
       "   Unnamed: 0                                               text  list\n",
       "0           0  Je m'en fiche si certaines personnes ont voté ...     1\n",
       "1           1  J'ai vu ce film par hasard sur la petite boîte...     1\n",
       "2           2  Le pire film que j'ai vu depuis un moment. Oua...     0\n",
       "3           3  Je ne sais pas ce que c'est à propos de ce fil...     1\n",
       "4           4  J'adore ce film! Je pense que je l'ai déjà vu ...     1"
      ]
     },
     "metadata": {},
     "output_type": "display_data"
    },
    {
     "data": {
      "text/html": [
       "<div>\n",
       "<style scoped>\n",
       "    .dataframe tbody tr th:only-of-type {\n",
       "        vertical-align: middle;\n",
       "    }\n",
       "\n",
       "    .dataframe tbody tr th {\n",
       "        vertical-align: top;\n",
       "    }\n",
       "\n",
       "    .dataframe thead th {\n",
       "        text-align: right;\n",
       "    }\n",
       "</style>\n",
       "<table border=\"1\" class=\"dataframe\">\n",
       "  <thead>\n",
       "    <tr style=\"text-align: right;\">\n",
       "      <th></th>\n",
       "      <th>text</th>\n",
       "      <th>list</th>\n",
       "    </tr>\n",
       "  </thead>\n",
       "  <tbody>\n",
       "    <tr>\n",
       "      <th>0</th>\n",
       "      <td>Je m'en fiche si certaines personnes ont voté ...</td>\n",
       "      <td>1</td>\n",
       "    </tr>\n",
       "    <tr>\n",
       "      <th>1</th>\n",
       "      <td>J'ai vu ce film par hasard sur la petite boîte...</td>\n",
       "      <td>1</td>\n",
       "    </tr>\n",
       "    <tr>\n",
       "      <th>2</th>\n",
       "      <td>Le pire film que j'ai vu depuis un moment. Oua...</td>\n",
       "      <td>0</td>\n",
       "    </tr>\n",
       "    <tr>\n",
       "      <th>3</th>\n",
       "      <td>Je ne sais pas ce que c'est à propos de ce fil...</td>\n",
       "      <td>1</td>\n",
       "    </tr>\n",
       "    <tr>\n",
       "      <th>4</th>\n",
       "      <td>J'adore ce film! Je pense que je l'ai déjà vu ...</td>\n",
       "      <td>1</td>\n",
       "    </tr>\n",
       "  </tbody>\n",
       "</table>\n",
       "</div>"
      ],
      "text/plain": [
       "                                                text  list\n",
       "0  Je m'en fiche si certaines personnes ont voté ...     1\n",
       "1  J'ai vu ce film par hasard sur la petite boîte...     1\n",
       "2  Le pire film que j'ai vu depuis un moment. Oua...     0\n",
       "3  Je ne sais pas ce que c'est à propos de ce fil...     1\n",
       "4  J'adore ce film! Je pense que je l'ai déjà vu ...     1"
      ]
     },
     "metadata": {},
     "output_type": "display_data"
    }
   ],
   "source": [
    "df=pd.read_csv('./translated.csv')\n",
    "print(len(df))\n",
    "display(df.head())\n",
    "df=df.drop(['Unnamed: 0'],axis=1)\n",
    "display(df.head())"
   ]
  },
  {
   "cell_type": "code",
   "execution_count": 83,
   "metadata": {},
   "outputs": [
    {
     "data": {
      "text/html": [
       "<div>\n",
       "<style scoped>\n",
       "    .dataframe tbody tr th:only-of-type {\n",
       "        vertical-align: middle;\n",
       "    }\n",
       "\n",
       "    .dataframe tbody tr th {\n",
       "        vertical-align: top;\n",
       "    }\n",
       "\n",
       "    .dataframe thead th {\n",
       "        text-align: right;\n",
       "    }\n",
       "</style>\n",
       "<table border=\"1\" class=\"dataframe\">\n",
       "  <thead>\n",
       "    <tr style=\"text-align: right;\">\n",
       "      <th></th>\n",
       "      <th>text</th>\n",
       "      <th>list</th>\n",
       "    </tr>\n",
       "  </thead>\n",
       "  <tbody>\n",
       "    <tr>\n",
       "      <th>0</th>\n",
       "      <td>Je m'en fiche si certaines personnes ont voté ...</td>\n",
       "      <td>[1, 0]</td>\n",
       "    </tr>\n",
       "    <tr>\n",
       "      <th>1</th>\n",
       "      <td>J'ai vu ce film par hasard sur la petite boîte...</td>\n",
       "      <td>[1, 0]</td>\n",
       "    </tr>\n",
       "    <tr>\n",
       "      <th>2</th>\n",
       "      <td>Le pire film que j'ai vu depuis un moment. Oua...</td>\n",
       "      <td>[0, 1]</td>\n",
       "    </tr>\n",
       "    <tr>\n",
       "      <th>3</th>\n",
       "      <td>Je ne sais pas ce que c'est à propos de ce fil...</td>\n",
       "      <td>[1, 0]</td>\n",
       "    </tr>\n",
       "    <tr>\n",
       "      <th>4</th>\n",
       "      <td>J'adore ce film! Je pense que je l'ai déjà vu ...</td>\n",
       "      <td>[1, 0]</td>\n",
       "    </tr>\n",
       "  </tbody>\n",
       "</table>\n",
       "</div>"
      ],
      "text/plain": [
       "                                                text    list\n",
       "0  Je m'en fiche si certaines personnes ont voté ...  [1, 0]\n",
       "1  J'ai vu ce film par hasard sur la petite boîte...  [1, 0]\n",
       "2  Le pire film que j'ai vu depuis un moment. Oua...  [0, 1]\n",
       "3  Je ne sais pas ce que c'est à propos de ce fil...  [1, 0]\n",
       "4  J'adore ce film! Je pense que je l'ai déjà vu ...  [1, 0]"
      ]
     },
     "metadata": {},
     "output_type": "display_data"
    }
   ],
   "source": [
    "\n",
    "\n",
    "new_df=df\n",
    "\n",
    "df_target=pd.DataFrame(new_df['list'])\n",
    "df_target['toto']=0\n",
    "for i in range(len(df_target)):\n",
    "    if df_target['list'].loc[i]==0:\n",
    "        df_target['toto'].loc[i]=1\n",
    "new_df1=new_df.drop(['list'],axis=1)\n",
    "new_df2=pd.DataFrame(df_target)\n",
    "\n",
    "new_df3=pd.concat([new_df1,new_df2],axis = 1)\n",
    "df=new_df3\n",
    "\n",
    "df['list'] = df[df.columns[1:]].values.tolist()\n",
    "new_df = df[['text', 'list']].copy()\n",
    "display(new_df.head())"
   ]
  },
  {
   "cell_type": "code",
   "execution_count": 84,
   "metadata": {},
   "outputs": [],
   "source": [
    "# Sections of config\n",
    "\n",
    "# Defining some key variables that will be used later on in the training\n",
    "MAX_LEN = 350\n",
    "TRAIN_BATCH_SIZE = 1\n",
    "VALID_BATCH_SIZE = 1\n",
    "EPOCHS = 2\n",
    "LEARNING_RATE = 1e-05\n"
   ]
  },
  {
   "cell_type": "code",
   "execution_count": null,
   "metadata": {},
   "outputs": [],
   "source": []
  },
  {
   "cell_type": "markdown",
   "metadata": {},
   "source": [
    "Now, let’s turn our labels and encodings into a Dataset object. In PyTorch, this is done by subclassing a torch.utils.data.Dataset object and implementing __len__ and __getitem__. In TensorFlow, we pass our input encodings and labels to the from_tensor_slices constructor method. We put the data in this format so that the data can be easily batched such that each key in the batch encoding corresponds to a named parameter of the forward() method of the model we will train.\n"
   ]
  },
  {
   "cell_type": "code",
   "execution_count": null,
   "metadata": {},
   "outputs": [],
   "source": []
  },
  {
   "cell_type": "code",
   "execution_count": 85,
   "metadata": {},
   "outputs": [],
   "source": [
    "\"\"\"\n",
    "SOURCE : https://pytorch.org/docs/stable/_modules/torch/utils/data/dataset.html#Dataset\n",
    "On subclass la classe Dataset de Pytorch.\n",
    "\n",
    "SOURCE :https://huggingface.co/transformers/_modules/transformers/tokenization_utils_base.html#PreTrainedTokenizerBase.batch_encode_plus\n",
    "encoded_inputs = self.encode_plus(\n",
    "            text,\n",
    "            text_pair=text_pair,\n",
    "            add_special_tokens=add_special_tokens,\n",
    "            padding=padding,\n",
    "            truncation=truncation,\n",
    "            max_length=max_length,\n",
    "            stride=stride,\n",
    "            return_tensors=return_tensors,\n",
    "            **kwargs,\n",
    "               )\n",
    "\n",
    "Retourne un dictionnaire de tensors attendu par le modele\n",
    "        \n",
    "\"\"\"\n",
    "class CustomDataset(Dataset):\n",
    "\n",
    "    def __init__(self, dataframe, tokenizer, max_len):\n",
    "        self.tokenizer = tokenizer\n",
    "        self.data = dataframe\n",
    "        self.text = dataframe.text\n",
    "        self.targets = self.data.list\n",
    "        self.max_len = max_len\n",
    "\n",
    "    def __len__(self):\n",
    "        return len(self.text)\n",
    "\n",
    "    def __getitem__(self, index):\n",
    "        text = str(self.text[index])\n",
    "        text = \" \".join(text.split())\n",
    "\n",
    "        inputs = self.tokenizer.encode_plus(\n",
    "            text,\n",
    "            None,\n",
    "            add_special_tokens=True,\n",
    "            max_length=self.max_len,\n",
    "            pad_to_max_length=True,\n",
    "            return_token_type_ids=True,\n",
    "            truncation=True\n",
    "        )\n",
    "        ids = inputs['input_ids']\n",
    "        mask = inputs['attention_mask']\n",
    "        token_type_ids = inputs[\"token_type_ids\"]\n",
    "\n",
    "\n",
    "        return {\n",
    "            'ids': torch.tensor(ids, dtype=torch.long),\n",
    "            'mask': torch.tensor(mask, dtype=torch.long),\n",
    "            'token_type_ids': torch.tensor(token_type_ids, dtype=torch.long),\n",
    "            'targets': torch.tensor(self.targets[index], dtype=torch.float)\n",
    "        }"
   ]
  },
  {
   "cell_type": "code",
   "execution_count": null,
   "metadata": {},
   "outputs": [],
   "source": []
  },
  {
   "cell_type": "code",
   "execution_count": 86,
   "metadata": {},
   "outputs": [
    {
     "name": "stdout",
     "output_type": "stream",
     "text": [
      "FULL Dataset: (2042, 2)\n",
      "TRAIN Dataset: (1634, 2)\n",
      "TEST Dataset: (408, 2)\n"
     ]
    }
   ],
   "source": [
    "# Creating the dataset and dataloader for the neural network\n",
    "\n",
    "train_size = 0.8\n",
    "train_dataset=new_df.sample(frac=train_size,random_state=200)\n",
    "test_dataset=new_df.drop(train_dataset.index).reset_index(drop=True)\n",
    "train_dataset = train_dataset.reset_index(drop=True)\n",
    "\n",
    "\n",
    "print(\"FULL Dataset: {}\".format(new_df.shape))\n",
    "print(\"TRAIN Dataset: {}\".format(train_dataset.shape))\n",
    "print(\"TEST Dataset: {}\".format(test_dataset.shape))\n",
    "\n",
    "training_set = CustomDataset(train_dataset, tokenizer, MAX_LEN)\n",
    "testing_set = CustomDataset(test_dataset, tokenizer, MAX_LEN)"
   ]
  },
  {
   "cell_type": "code",
   "execution_count": null,
   "metadata": {},
   "outputs": [],
   "source": []
  },
  {
   "cell_type": "code",
   "execution_count": 87,
   "metadata": {},
   "outputs": [],
   "source": [
    "\"\"\"\n",
    "On fait des batchs, et on shuffle : https://pytorch.org/docs/stable/data.html\n",
    "\n",
    "DataLoader(dataset, batch_size=1, shuffle=False, sampler=None,\n",
    "           batch_sampler=None, num_workers=0, collate_fn=None,\n",
    "           pin_memory=False, drop_last=False, timeout=0,\n",
    "           worker_init_fn=None, *, prefetch_factor=2,\n",
    "           persistent_workers=False)\n",
    "Dataloader\n",
    "\n",
    "    Dataloader is used to for creating training and validation dataloader that load data to the neural network in a defined manner. This is needed because all the data from the dataset cannot be loaded to the memory at once, hence the amount of dataloaded to the memory and then passed to the neural network needs to be controlled.\n",
    "    This control is achieved using the parameters such as batch_size and max_len.\n",
    "    Training and Validation dataloaders are used in the training and validation part of the flow respectively\n",
    "\n",
    "\n",
    "\"\"\"\n",
    "\n",
    "train_params = {'batch_size': TRAIN_BATCH_SIZE,\n",
    "                'shuffle': True,\n",
    "                'num_workers': 0\n",
    "                }\n",
    "\n",
    "test_params = {'batch_size': VALID_BATCH_SIZE,\n",
    "                'shuffle': True,\n",
    "                'num_workers': 0\n",
    "                }\n",
    "\n",
    "training_loader = DataLoader(training_set, **train_params)\n",
    "testing_loader = DataLoader(testing_set, **test_params)"
   ]
  },
  {
   "cell_type": "markdown",
   "metadata": {},
   "source": []
  },
  {
   "cell_type": "code",
   "execution_count": 88,
   "metadata": {},
   "outputs": [],
   "source": [
    "# Creating the customized model, by adding a drop out and a dense layer on top of distil bert to get the final output for the model. \n",
    "\"\"\"\n",
    "We will be creating a neural network with the BERTClass.\n",
    "This network will have the Bert model. Follwed by a Droput and Linear Layer. They are added for the purpose of Regulariaztion and Classification respectively.\n",
    "In the forward loop, there are 2 output from the BertModel layer.\n",
    "The second output output_1 or called the pooled output is passed to the Drop Out layer and the subsequent output is given to the Linear layer.\n",
    "Keep note the number of dimensions for Linear Layer is 6 because that is the total number of categories in which we are looking to classify our model.\n",
    "The data will be fed to the BertClass as defined in the dataset.\n",
    "Final layer outputs is what will be used to calcuate the loss and to determine the accuracy of models prediction.\n",
    "We will initiate an instance of the network called model. This instance will be used for training and then to save the final trained model for future inference.\n",
    "the batch encoding corresponds to a named parameter of the forward() method of the model we will train.\n",
    "\n",
    "\"\"\"\n",
    "\n",
    "\n",
    "class BERTClass(torch.nn.Module):\n",
    "    def __init__(self):\n",
    "        super(BERTClass, self).__init__()\n",
    "        self.l1 = CamembertModel.from_pretrained(\"camembert-base\")\n",
    "        self.l2 = torch.nn.Dropout(0.3)\n",
    "        self.l3 = torch.nn.Linear(768, 2) #2 = binary classification\n",
    "    \n",
    "    def forward(self, ids, mask, token_type_ids):\n",
    "        _, output_1= self.l1(ids, attention_mask = mask, token_type_ids = token_type_ids)\n",
    "        output_2 = self.l2(output_1)\n",
    "        output = self.l3(output_2)\n",
    "        return output\n",
    "\n",
    "model = BERTClass()\n",
    "\n",
    "\n"
   ]
  },
  {
   "cell_type": "code",
   "execution_count": null,
   "metadata": {},
   "outputs": [],
   "source": []
  },
  {
   "cell_type": "code",
   "execution_count": null,
   "metadata": {},
   "outputs": [],
   "source": [
    "\n"
   ]
  },
  {
   "cell_type": "code",
   "execution_count": 89,
   "metadata": {},
   "outputs": [],
   "source": [
    "\"\"\"\n",
    "On définit la loss function et l'optimizer\n",
    "\n",
    "It is to be noted that the overall mechanisms for a multiclass and multilabel problems are similar, except for few differences namely:\n",
    "Loss function is designed to evaluate all the probability of categories individually rather than as compared to other categories. \n",
    "Hence the use of BCE rather than Cross Entropy when defining loss.\n",
    "Sigmoid of the outputs calcuated to rather than Softmax. Again for the reasons defined in the previous point\n",
    "The accuracy metrics and F1 scores used from sklearn package as compared to direct comparison of expected vs predicted\n",
    "\n",
    "\n",
    "\"\"\"\n",
    "\n",
    "def loss_fn(outputs, targets):\n",
    "    return torch.nn.BCEWithLogitsLoss()(outputs, targets)\n",
    "\n",
    "optimizer = torch.optim.Adam(params =  model.parameters(), lr=LEARNING_RATE)\n"
   ]
  },
  {
   "cell_type": "code",
   "execution_count": 90,
   "metadata": {},
   "outputs": [],
   "source": [
    "\"\"\"\n",
    "The dataloader passes data to the model based on the batch size.\n",
    "Subsequent output from the model and the actual category are compared to calculate the loss.\n",
    "Loss value is used to optimize the weights of the neurons in the network.\n",
    "After every 100 steps the loss value is printed in the console.\n",
    "\n",
    "\"\"\"\n",
    "def train(epoch):\n",
    "    model.train()\n",
    "    for _,data in enumerate(training_loader, 0):\n",
    "        ids = data['ids']\n",
    "        mask = data['mask']\n",
    "        token_type_ids = data['token_type_ids']\n",
    "        targets = data['targets']\n",
    "        outputs = model(ids, mask, token_type_ids)\n",
    "\n",
    "        optimizer.zero_grad()\n",
    "        loss = loss_fn(outputs, targets)\n",
    "        if _%100==0:\n",
    "            print(f'Epoch: {epoch}, Loss:  {loss.item()}')\n",
    "        \n",
    "        optimizer.zero_grad()\n",
    "        loss.backward()\n",
    "        optimizer.step()\n"
   ]
  },
  {
   "cell_type": "code",
   "execution_count": 91,
   "metadata": {},
   "outputs": [
    {
     "name": "stdout",
     "output_type": "stream",
     "text": [
      "Epoch: 0, Loss:  0.7279871702194214\n",
      "Epoch: 0, Loss:  0.60594642162323\n",
      "Epoch: 0, Loss:  0.6041982173919678\n",
      "Epoch: 0, Loss:  0.3362402319908142\n",
      "Epoch: 0, Loss:  0.310707151889801\n",
      "Epoch: 0, Loss:  0.2229984700679779\n",
      "Epoch: 0, Loss:  1.53865385055542\n",
      "Epoch: 0, Loss:  0.17237332463264465\n",
      "Epoch: 0, Loss:  0.13859540224075317\n",
      "Epoch: 0, Loss:  0.7772263288497925\n",
      "Epoch: 0, Loss:  0.4765016734600067\n",
      "Epoch: 0, Loss:  0.14793190360069275\n",
      "Epoch: 0, Loss:  0.3320745825767517\n",
      "Epoch: 0, Loss:  0.08441752940416336\n",
      "Epoch: 0, Loss:  0.08091908693313599\n",
      "Epoch: 0, Loss:  0.07366960495710373\n",
      "Epoch: 0, Loss:  0.0666135847568512\n",
      "Epoch: 1, Loss:  0.11256740987300873\n",
      "Epoch: 1, Loss:  0.45494163036346436\n",
      "Epoch: 1, Loss:  0.06847839057445526\n",
      "Epoch: 1, Loss:  0.05006334185600281\n",
      "Epoch: 1, Loss:  0.05995655804872513\n",
      "Epoch: 1, Loss:  0.05453237146139145\n",
      "Epoch: 1, Loss:  0.044343702495098114\n",
      "Epoch: 1, Loss:  0.06448893994092941\n",
      "Epoch: 1, Loss:  0.040607936680316925\n",
      "Epoch: 1, Loss:  0.033368296921253204\n",
      "Epoch: 1, Loss:  0.0807516872882843\n",
      "Epoch: 1, Loss:  0.03679551184177399\n",
      "Epoch: 1, Loss:  0.036569103598594666\n",
      "Epoch: 1, Loss:  0.03286690264940262\n",
      "Epoch: 1, Loss:  0.4563816785812378\n",
      "Epoch: 1, Loss:  0.024445079267024994\n",
      "Epoch: 1, Loss:  0.032473333179950714\n"
     ]
    }
   ],
   "source": [
    "\"\"\"\n",
    "On lance l'entrainement !\n",
    "\n",
    "\"\"\"\n",
    "\n",
    "for epoch in range(EPOCHS):\n",
    "    train(epoch)"
   ]
  },
  {
   "cell_type": "code",
   "execution_count": null,
   "metadata": {},
   "outputs": [],
   "source": []
  },
  {
   "cell_type": "code",
   "execution_count": 92,
   "metadata": {},
   "outputs": [],
   "source": [
    "def validation(epoch):\n",
    "    model.eval()\n",
    "    fin_targets=[]\n",
    "    fin_outputs=[]\n",
    "    with torch.no_grad():\n",
    "        for _, data in enumerate(testing_loader, 0):\n",
    "            ids = data['ids']\n",
    "            mask = data['mask']\n",
    "            token_type_ids = data['token_type_ids']\n",
    "            targets = data['targets']\n",
    "            outputs = model(ids, mask, token_type_ids)\n",
    "            fin_targets.extend(targets.cpu().detach().numpy().tolist())\n",
    "            fin_outputs.extend(torch.sigmoid(outputs).cpu().detach().numpy().tolist())\n",
    "    return fin_outputs, fin_targets"
   ]
  },
  {
   "cell_type": "code",
   "execution_count": 93,
   "metadata": {},
   "outputs": [
    {
     "name": "stdout",
     "output_type": "stream",
     "text": [
      "Accuracy Score = 0.8970588235294118\n",
      "F1 Score (Micro) = 0.8970588235294118\n",
      "F1 Score (Macro) = 0.8956140350877193\n",
      "Accuracy Score = 0.8970588235294118\n",
      "F1 Score (Micro) = 0.8970588235294118\n",
      "F1 Score (Macro) = 0.8956140350877193\n"
     ]
    }
   ],
   "source": [
    "for epoch in range(EPOCHS):\n",
    "    outputs, targets = validation(epoch)\n",
    "    outputs = np.array(outputs) >= 0.5\n",
    "    accuracy = metrics.accuracy_score(targets, outputs)\n",
    "    f1_score_micro = metrics.f1_score(targets, outputs, average='micro')\n",
    "    f1_score_macro = metrics.f1_score(targets, outputs, average='macro')\n",
    "    print(f\"Accuracy Score = {accuracy}\")\n",
    "    print(f\"F1 Score (Micro) = {f1_score_micro}\")\n",
    "    print(f\"F1 Score (Macro) = {f1_score_macro}\")"
   ]
  },
  {
   "cell_type": "code",
   "execution_count": null,
   "metadata": {},
   "outputs": [],
   "source": []
  },
  {
   "cell_type": "code",
   "execution_count": 102,
   "metadata": {},
   "outputs": [
    {
     "ename": "TypeError",
     "evalue": "save() missing 1 required positional argument: 'f'",
     "output_type": "error",
     "traceback": [
      "\u001b[1;31m---------------------------------------------------------------------------\u001b[0m",
      "\u001b[1;31mTypeError\u001b[0m                                 Traceback (most recent call last)",
      "\u001b[1;32m<ipython-input-102-ae3bb6f1626a>\u001b[0m in \u001b[0;36m<module>\u001b[1;34m\u001b[0m\n\u001b[1;32m----> 1\u001b[1;33m \u001b[0mtorch\u001b[0m\u001b[1;33m.\u001b[0m\u001b[0msave\u001b[0m\u001b[1;33m(\u001b[0m\u001b[0mmodel\u001b[0m\u001b[1;33m.\u001b[0m\u001b[0mstate_dict\u001b[0m\u001b[1;33m(\u001b[0m\u001b[1;33m)\u001b[0m\u001b[1;33m)\u001b[0m\u001b[1;33m\u001b[0m\u001b[1;33m\u001b[0m\u001b[0m\n\u001b[0m\u001b[0;32m      2\u001b[0m \u001b[1;33m\u001b[0m\u001b[0m\n",
      "\u001b[1;31mTypeError\u001b[0m: save() missing 1 required positional argument: 'f'"
     ]
    }
   ],
   "source": [
    "torch.save(model.state_dict())\n",
    "\n"
   ]
  },
  {
   "cell_type": "code",
   "execution_count": 105,
   "metadata": {},
   "outputs": [
    {
     "data": {
      "text/plain": [
       "\"\\ntorch.save(model.state_dict(), f'BERT_ft_epoch{epoch}.model')\\n\\nmodel.load_state_dict(torch.load(f'BERT_ft_epoch1.model'))\\nmodel.eval()\\noutput=model(...)\\n\\n\""
      ]
     },
     "execution_count": 105,
     "metadata": {},
     "output_type": "execute_result"
    }
   ],
   "source": [
    "\"\"\"\n",
    "torch.save(model.state_dict(), f'BERT_ft_epoch{epoch}.model')\n",
    "\n",
    "model.load_state_dict(torch.load(f'BERT_ft_epoch1.model'))\n",
    "model.eval()\n",
    "output=model(...)\n",
    "\n",
    "\"\"\"\n"
   ]
  },
  {
   "cell_type": "code",
   "execution_count": null,
   "metadata": {},
   "outputs": [],
   "source": []
  },
  {
   "cell_type": "code",
   "execution_count": null,
   "metadata": {},
   "outputs": [],
   "source": []
  }
 ],
 "metadata": {
  "kernelspec": {
   "display_name": "Python 3",
   "language": "python",
   "name": "python3"
  },
  "language_info": {
   "codemirror_mode": {
    "name": "ipython",
    "version": 3
   },
   "file_extension": ".py",
   "mimetype": "text/x-python",
   "name": "python",
   "nbconvert_exporter": "python",
   "pygments_lexer": "ipython3",
   "version": "3.8.3"
  }
 },
 "nbformat": 4,
 "nbformat_minor": 4
}
